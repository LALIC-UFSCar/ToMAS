{
 "cells": [
  {
   "cell_type": "code",
   "execution_count": null,
   "id": "fc135f4d-db7d-4919-b9a4-83560aa16dbc",
   "metadata": {},
   "outputs": [],
   "source": [
    "import pandas as pd\n",
    "import re"
   ]
  },
  {
   "cell_type": "markdown",
   "id": "e9800956-dcff-4b9e-b972-c63e7d9e7557",
   "metadata": {},
   "source": [
    "## Gera arquivo .csv com os BERTScores para análise em planilha"
   ]
  },
  {
   "cell_type": "code",
   "execution_count": null,
   "id": "61f4b61b-1738-495d-b3d6-2c2448ea1323",
   "metadata": {},
   "outputs": [],
   "source": [
    "def process_txt_to_dataframe(file_path):\n",
    "    with open(file_path, 'r') as file:\n",
    "        lines = file.readlines()\n",
    "    \n",
    "    data = []\n",
    "    current_base = None\n",
    "    current_model = None\n",
    "    current_topic = None\n",
    "\n",
    "    for line in lines:\n",
    "        line = line.strip()\n",
    "        \n",
    "        # Detectar a linha de cabeçalho com Base, Modelo e Tópico\n",
    "        if line.startswith(\"BertScore\"):\n",
    "            match = re.match(r\"BertScore\\s+(.+?)\\s+-\\s+(.+?)\\s+-\\s+Tópico\\s+(\\d+):\", line)\n",
    "            if match:\n",
    "                current_base = match.group(1)\n",
    "                current_model = match.group(2)\n",
    "                current_topic = int(match.group(3))\n",
    "        \n",
    "        # Detectar métricas e armazenar na estrutura de dados\n",
    "        elif line.startswith(\"Weight:\"):\n",
    "            weighted = float(line.split(\":\")[1].strip())\n",
    "        elif line.startswith(\"Weighted F1 Avg:\"):\n",
    "            weighted_f1_avg = float(line.split(\":\")[1].strip())\n",
    "        elif line.startswith(\"Weighted F1 Max:\"):\n",
    "            weighted_f1_max = float(line.split(\":\")[1].strip())\n",
    "        elif line.startswith(\"Weighted F1 Min:\"):\n",
    "            weighted_f1_min = float(line.split(\":\")[1].strip())\n",
    "        elif line.startswith(\"Weighted F1 Top-k Avg:\"):\n",
    "            weighted_f1_topk_avg = float(line.split(\":\")[1].strip())\n",
    "        elif line.startswith(\"Precision Avg:\"):\n",
    "            precision_avg = float(line.split(\":\")[1].strip())\n",
    "        elif line.startswith(\"Recall Avg:\"):\n",
    "            recall_avg = float(line.split(\":\")[1].strip())\n",
    "        elif line.startswith(\"F1 Avg:\"):\n",
    "            f1_avg = float(line.split(\":\")[1].strip())\n",
    "        elif line.startswith(\"Precision Max:\"):\n",
    "            precision_max = float(line.split(\":\")[1].strip())\n",
    "        elif line.startswith(\"Recall Max:\"):\n",
    "            recall_max = float(line.split(\":\")[1].strip())\n",
    "        elif line.startswith(\"F1 Max:\"):\n",
    "            f1_max = float(line.split(\":\")[1].strip())\n",
    "        elif line.startswith(\"Precision Min:\"):\n",
    "            precision_min = float(line.split(\":\")[1].strip())\n",
    "        elif line.startswith(\"Recall Min:\"):\n",
    "            recall_min = float(line.split(\":\")[1].strip())\n",
    "        elif line.startswith(\"F1 Min:\"):\n",
    "            f1_min = float(line.split(\":\")[1].strip())\n",
    "        elif line.startswith(\"Precision Top-k Avg:\"):\n",
    "            precision_topk_avg = float(line.split(\":\")[1].strip())\n",
    "        elif line.startswith(\"Recall Top-k Avg:\"):\n",
    "            recall_topk_avg = float(line.split(\":\")[1].strip())\n",
    "        elif line.startswith(\"F1 Top-k Avg:\"):\n",
    "            f1_topk_avg = float(line.split(\":\")[1].strip())\n",
    "            # Adicionar linha ao dataframe após a última métrica\n",
    "            data.append([\n",
    "                current_base, current_topic, current_model,\n",
    "                weighted, weighted_f1_avg, weighted_f1_max, weighted_f1_min, weighted_f1_topk_avg,\n",
    "                precision_avg, recall_avg, f1_avg,\n",
    "                precision_max, recall_max, f1_max,\n",
    "                precision_min, recall_min, f1_min,\n",
    "                precision_topk_avg, recall_topk_avg, f1_topk_avg\n",
    "            ])\n",
    "\n",
    "    # Criar DataFrame com os dados\n",
    "    columns = [\n",
    "        \"Base\", \"Tópico\", \"Modelo\",\n",
    "        \"Weighted\", \"Weighted F1 Avg\", \"Weighted F1 Max\", \"Weighted F1 Min\", \"Weighted F1 Top-k Avg\",\n",
    "        \"Precision Avg\", \"Recall Avg\", \"F1 Avg\",\n",
    "        \"Precision Max\", \"Recall Max\", \"F1 Max\",\n",
    "        \"Precision Min\", \"Recall Min\", \"F1 Min\",\n",
    "        \"Precision Top-k Avg\", \"Recall Top-k Avg\", \"F1 Top-k Avg\"\n",
    "    ]\n",
    "    df = pd.DataFrame(data, columns=columns)\n",
    "    return df\n"
   ]
  },
  {
   "cell_type": "code",
   "execution_count": null,
   "id": "34cd889b-35a7-4ee2-81aa-48c2e3f98f1b",
   "metadata": {},
   "outputs": [],
   "source": [
    "df_atos_golpistas = process_txt_to_dataframe('result_bertscore_atos_golpistas_v6.txt')"
   ]
  },
  {
   "cell_type": "code",
   "execution_count": null,
   "id": "d85d8567-759b-43ea-b064-264282ab02dd",
   "metadata": {},
   "outputs": [],
   "source": [
    "df_lula = process_txt_to_dataframe('result_bertscore_lula_v6.txt')"
   ]
  },
  {
   "cell_type": "code",
   "execution_count": null,
   "id": "cf09ef0a-0d4c-4493-9b20-7110656f3aaf",
   "metadata": {},
   "outputs": [],
   "source": [
    "df_bolsonaro = process_txt_to_dataframe('result_bertscore_bolsonaro_v6.txt')"
   ]
  },
  {
   "cell_type": "code",
   "execution_count": null,
   "id": "2ef2550f-8ff3-4357-af49-0f663efd3278",
   "metadata": {},
   "outputs": [],
   "source": [
    "df_final = pd.concat([df_atos_golpistas, df_lula, df_bolsonaro], ignore_index=True)"
   ]
  },
  {
   "cell_type": "code",
   "execution_count": null,
   "id": "6064e29f-67a7-4df0-96c5-cfc6ccd20799",
   "metadata": {},
   "outputs": [],
   "source": [
    "df_final.to_csv('resultados_tratados_weighted.csv', index=False)"
   ]
  },
  {
   "cell_type": "markdown",
   "id": "95c128c2-4ca0-446e-89b1-a666600aeb27",
   "metadata": {},
   "source": [
    "## Código para o cálculo da correlação de Pearson e p-valores"
   ]
  },
  {
   "cell_type": "code",
   "execution_count": null,
   "id": "536c7cd5-595f-4835-b929-bd85143baa28",
   "metadata": {},
   "outputs": [],
   "source": [
    "import pandas as pd\n",
    "import numpy as np\n",
    "import matplotlib.pyplot as plt\n",
    "\n",
    "# Dados para calcular a correlação - Preencher aqui com os BertScores e Likerts\n",
    "data = {\n",
    "    \"Modelo\": [\"Bode\", \"Bode\", \"Llama 2\", \"Llama 2\", \"Llama 3\", \"Llama 3\", \"Mistral\", \"Mistral\"],\n",
    "    \"Base\": [\"Bolsonaro\", \"Lula\", \"Bolsonaro\", \"Lula\", \"Bolsonaro\", \"Lula\", \"Bolsonaro\", \"Lula\"],\n",
    "    \"Média F1 BertScore - Com peso\": [0.508, 0.518, 0.576, 0.576, 0.589, 0.581, 0.495, 0.522],\n",
    "    \"Média F1 BertScore\": [0.621, 0.598, 0.602, 0.595, 0.612, 0.602, 0.572, 0.572],\n",
    "    \"Média Likert\": [4.836, 5.346, 5.478, 5.203, 5.668, 5.415, 5.096, 4.745],\n",
    "}\n",
    "\n",
    "df = pd.DataFrame(data)\n",
    "\n",
    "# Calculando a correlação de Pearson\n",
    "correlation_weights = np.corrcoef(df[\"Média F1 BertScore - Com peso\"], df[\"Média Likert\"])[0, 1]\n",
    "correlation_no_weights = np.corrcoef(df[\"Média F1 BertScore\"], df[\"Média Likert\"])[0, 1]\n",
    "\n",
    "# Criando os gráficos de dispersão\n",
    "plt.figure(figsize=(12, 6))\n",
    "\n",
    "# Gráfico 1: Likert vs F1 BertScore - Com Peso\n",
    "plt.subplot(1, 2, 1)\n",
    "plt.scatter(df[\"Média F1 BertScore - Com peso\"], df[\"Média Likert\"], alpha=0.7, label=\"Dados\")\n",
    "plt.title(f\"Correlação: {correlation_weights:.2f}\", fontsize=12)\n",
    "plt.xlabel(\"Média F1 BertScore - Com peso\", fontsize=10)\n",
    "plt.ylabel(\"Média Likert\", fontsize=10)\n",
    "plt.grid(True)\n",
    "plt.plot(np.unique(df[\"Média F1 BertScore - Com peso\"]), \n",
    "         np.poly1d(np.polyfit(df[\"Média F1 BertScore - Com peso\"], df[\"Média Likert\"], 1))(np.unique(df[\"Média F1 BertScore - Com peso\"])),\n",
    "         color=\"red\", label=\"Tendência\")\n",
    "plt.legend()\n",
    "\n",
    "# Gráfico 2: Likert vs F1 BertScore\n",
    "plt.subplot(1, 2, 2)\n",
    "plt.scatter(df[\"Média F1 BertScore\"], df[\"Média Likert\"], alpha=0.7, label=\"Dados\")\n",
    "plt.title(f\"Correlação: {correlation_no_weights:.2f}\", fontsize=12)\n",
    "plt.xlabel(\"Média F1 BertScore\", fontsize=10)\n",
    "plt.ylabel(\"Média Likert\", fontsize=10)\n",
    "plt.grid(True)\n",
    "plt.plot(np.unique(df[\"Média F1 BertScore\"]), \n",
    "         np.poly1d(np.polyfit(df[\"Média F1 BertScore\"], df[\"Média Likert\"], 1))(np.unique(df[\"Média F1 BertScore\"])),\n",
    "         color=\"red\", label=\"Tendência\")\n",
    "plt.legend()\n",
    "\n",
    "plt.tight_layout()\n",
    "plt.show()\n",
    "\n",
    "# Mostrando as correlações para o usuário\n",
    "correlation_weights, correlation_no_weights\n"
   ]
  },
  {
   "cell_type": "code",
   "execution_count": null,
   "id": "3be7014e-e081-466d-b031-0ff38aa63b84",
   "metadata": {},
   "outputs": [],
   "source": [
    "from scipy.stats import pearsonr\n",
    "\n",
    "# Calculando a significância estatística das correlações\n",
    "correlation_weights, pval_weights = pearsonr(df[\"Média F1 BertScore - Com peso\"], df[\"Média Likert\"])\n",
    "correlation_no_weights, pval_no_weights = pearsonr(df[\"Média F1 BertScore\"], df[\"Média Likert\"])\n",
    "\n",
    "{\n",
    "    \"Correlação com peso\": correlation_weights,\n",
    "    \"P-valor com peso\": pval_weights,\n",
    "    \"Correlação sem peso\": correlation_no_weights,\n",
    "    \"P-valor sem peso\": pval_no_weights\n",
    "}\n"
   ]
  }
 ],
 "metadata": {
  "kernelspec": {
   "display_name": "Python 3 (ipykernel)",
   "language": "python",
   "name": "python3"
  },
  "language_info": {
   "codemirror_mode": {
    "name": "ipython",
    "version": 3
   },
   "file_extension": ".py",
   "mimetype": "text/x-python",
   "name": "python",
   "nbconvert_exporter": "python",
   "pygments_lexer": "ipython3",
   "version": "3.11.9"
  }
 },
 "nbformat": 4,
 "nbformat_minor": 5
}
